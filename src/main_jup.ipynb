{
 "metadata": {
  "language_info": {
   "codemirror_mode": {
    "name": "ipython",
    "version": 3
   },
   "file_extension": ".py",
   "mimetype": "text/x-python",
   "name": "python",
   "nbconvert_exporter": "python",
   "pygments_lexer": "ipython3",
   "version": "3.7.4"
  },
  "orig_nbformat": 4,
  "kernelspec": {
   "name": "python3",
   "display_name": "Python 3.7.4 64-bit"
  },
  "interpreter": {
   "hash": "674dfd6ded4398e0679ff4f65e9a10a54ff0d14801bec0126172cfc3973d1cf1"
  }
 },
 "nbformat": 4,
 "nbformat_minor": 2,
 "cells": [
  {
   "cell_type": "code",
   "execution_count": 2,
   "metadata": {},
   "outputs": [],
   "source": [
    "import os, sys\n",
    "\n",
    "from utils import sql_functions\n",
    "import pandas as pd\n",
    "import json"
   ]
  },
  {
   "cell_type": "code",
   "execution_count": 3,
   "metadata": {},
   "outputs": [],
   "source": [
    "#ROOTPATH\n",
    "path = os.path.dirname(os.getcwd())\n",
    "sys.path.append(path)\n",
    "\n",
    "# JSON SETTINGS\n",
    "settings_file = path + os.sep + \"config\" + os.sep + \"bd_info.json\"\n",
    "\n",
    "def read_json(fullpath):\n",
    "    with open(fullpath, \"r\") as json_file_readed:\n",
    "        json_readed = json.load(json_file_readed)\n",
    "    return json_readed\n",
    "\n",
    "json_r = read_json(fullpath=settings_file)\n",
    "\n",
    "# BBDD SETTINGS\n",
    "IP_DNS = json_r[\"IP_DNS\"]\n",
    "PORT = json_r[\"PORT\"]\n",
    "USER = json_r[\"USER\"]\n",
    "PASSWORD = json_r[\"PASSWORD\"]\n",
    "BD_NAME = json_r[\"BD_NAME\"]"
   ]
  },
  {
   "cell_type": "code",
   "execution_count": 4,
   "metadata": {},
   "outputs": [],
   "source": [
    "# INSTANCIA MYSQL\n",
    "mysql = sql_functions.MySQL(IP_DNS, USER, PASSWORD, BD_NAME, PORT)"
   ]
  },
  {
   "cell_type": "code",
   "execution_count": 4,
   "metadata": {},
   "outputs": [],
   "source": [
    "# SENTENCIAS SQL PARA TRAER LAS TABLAS\n",
    "sql1 = \"SELECT * FROM fire_archive_V1_96617\"\n",
    "\n",
    "sql2 = \"SELECT * FROM fire_archive_M6_96619\""
   ]
  },
  {
   "cell_type": "code",
   "execution_count": 7,
   "metadata": {},
   "outputs": [
    {
     "output_type": "stream",
     "name": "stdout",
     "text": [
      "Connected to MySQL server [australia_fires]\n",
      "Close connection with MySQL server [australia_fires]\n"
     ]
    }
   ],
   "source": [
    "# CONECTAMOS A LA BBDD\n",
    "connection = mysql.connect()\n",
    "\n",
    "# EJECUTAMOS SENTENCIAS\n",
    "df1 = pd.read_sql(sql1, con=connection)\n",
    "df2 = pd.read_sql(sql2, con=connection)\n",
    "\n",
    "#CERRAMOS CONEXIÓN\n",
    "mysql.close()"
   ]
  },
  {
   "cell_type": "code",
   "execution_count": 8,
   "metadata": {},
   "outputs": [
    {
     "output_type": "stream",
     "name": "stdout",
     "text": [
      "<class 'pandas.core.frame.DataFrame'>\nRangeIndex: 36011 entries, 0 to 36010\nData columns (total 16 columns):\n #   Column      Non-Null Count  Dtype  \n---  ------      --------------  -----  \n 0   fire_id     36011 non-null  int64  \n 1   latitude    36011 non-null  object \n 2   longitude   36011 non-null  float64\n 3   brightness  36011 non-null  float64\n 4   scan        36011 non-null  float64\n 5   track       36011 non-null  float64\n 6   acq_date    36011 non-null  object \n 7   acq_time    36011 non-null  int64  \n 8   satellite   36011 non-null  object \n 9   instrument  36011 non-null  object \n 10  confidence  36011 non-null  int64  \n 11  version     36011 non-null  float64\n 12  bright_t31  36011 non-null  float64\n 13  frp         36011 non-null  float64\n 14  daynight    36011 non-null  object \n 15  fire_type   36011 non-null  int64  \ndtypes: float64(7), int64(4), object(5)\nmemory usage: 4.4+ MB\n"
     ]
    }
   ],
   "source": [
    "df2.info()"
   ]
  },
  {
   "cell_type": "code",
   "execution_count": 9,
   "metadata": {},
   "outputs": [
    {
     "output_type": "stream",
     "name": "stdout",
     "text": [
      "<class 'pandas.core.frame.DataFrame'>\nRangeIndex: 184778 entries, 0 to 184777\nData columns (total 15 columns):\n #   Column      Non-Null Count   Dtype  \n---  ------      --------------   -----  \n 0   fire_id     184778 non-null  int64  \n 1   latitude    184778 non-null  object \n 2   longitude   184778 non-null  float64\n 3   bright_ti4  184778 non-null  float64\n 4   scan        184778 non-null  float64\n 5   track       184778 non-null  float64\n 6   acq_date    184778 non-null  object \n 7   acq_time    184778 non-null  int64  \n 8   satellite   184778 non-null  object \n 9   instrument  184778 non-null  object \n 10  confidence  184778 non-null  object \n 11  version     184778 non-null  int64  \n 12  bright_ti5  184778 non-null  float64\n 13  frp         184778 non-null  float64\n 14  fire_type   184778 non-null  int64  \ndtypes: float64(6), int64(4), object(5)\nmemory usage: 21.1+ MB\n"
     ]
    }
   ],
   "source": [
    "df1.info()"
   ]
  },
  {
   "cell_type": "code",
   "execution_count": 21,
   "metadata": {},
   "outputs": [
    {
     "output_type": "execute_result",
     "data": {
      "text/plain": [
       "       fire_id  latitude  longitude  bright1  scan  track    acq_date  \\\n",
       "0            0   -11.807   142.0583    313.0   1.0    1.0  2019-08-01   \n",
       "1            1  -11.7924   142.0850    319.3   1.0    1.0  2019-08-01   \n",
       "2            2  -12.8398   132.8744    311.6   3.1    1.7  2019-08-01   \n",
       "3            3  -14.4306   143.3035    310.1   1.1    1.1  2019-08-01   \n",
       "4            4  -12.4953   131.4897    310.3   4.0    1.9  2019-08-01   \n",
       "...        ...       ...        ...      ...   ...    ...         ...   \n",
       "36006    36006  -28.0656   131.6334    312.7   1.2    1.1  2019-09-30   \n",
       "36007    36007  -28.2625   128.5494    304.9   1.0    1.0  2019-09-30   \n",
       "36008    36008  -28.2941   128.5123    301.7   1.0    1.0  2019-09-30   \n",
       "36009    36009  -28.3001   128.5530    303.6   1.0    1.0  2019-09-30   \n",
       "36010    36010  -30.8641   121.4995    309.1   1.8    1.3  2019-09-30   \n",
       "\n",
       "       acq_time satellite instrument  confidence  version  bright2   frp  \\\n",
       "0            56     Terra      MODIS          48      6.3    297.3   6.6   \n",
       "1            56     Terra      MODIS          71      6.3    297.3  11.3   \n",
       "2            57     Terra      MODIS          42      6.3    298.7  23.1   \n",
       "3            57     Terra      MODIS          33      6.3    296.1   6.5   \n",
       "4            57     Terra      MODIS          36      6.3    298.8  27.6   \n",
       "...         ...       ...        ...         ...      ...      ...   ...   \n",
       "36006      1644      Aqua      MODIS          85      6.3    292.9  14.2   \n",
       "36007      1644      Aqua      MODIS          27      6.3    290.9   6.4   \n",
       "36008      1644      Aqua      MODIS          43      6.3    290.4   5.5   \n",
       "36009      1644      Aqua      MODIS          41      6.3    290.3   5.7   \n",
       "36010      1645      Aqua      MODIS          77      6.3    290.9  23.0   \n",
       "\n",
       "       fire_type  \n",
       "0              0  \n",
       "1              0  \n",
       "2              0  \n",
       "3              0  \n",
       "4              0  \n",
       "...          ...  \n",
       "36006          0  \n",
       "36007          0  \n",
       "36008          0  \n",
       "36009          0  \n",
       "36010          2  \n",
       "\n",
       "[36011 rows x 15 columns]"
      ],
      "text/html": "<div>\n<style scoped>\n    .dataframe tbody tr th:only-of-type {\n        vertical-align: middle;\n    }\n\n    .dataframe tbody tr th {\n        vertical-align: top;\n    }\n\n    .dataframe thead th {\n        text-align: right;\n    }\n</style>\n<table border=\"1\" class=\"dataframe\">\n  <thead>\n    <tr style=\"text-align: right;\">\n      <th></th>\n      <th>fire_id</th>\n      <th>latitude</th>\n      <th>longitude</th>\n      <th>bright1</th>\n      <th>scan</th>\n      <th>track</th>\n      <th>acq_date</th>\n      <th>acq_time</th>\n      <th>satellite</th>\n      <th>instrument</th>\n      <th>confidence</th>\n      <th>version</th>\n      <th>bright2</th>\n      <th>frp</th>\n      <th>fire_type</th>\n    </tr>\n  </thead>\n  <tbody>\n    <tr>\n      <th>0</th>\n      <td>0</td>\n      <td>-11.807</td>\n      <td>142.0583</td>\n      <td>313.0</td>\n      <td>1.0</td>\n      <td>1.0</td>\n      <td>2019-08-01</td>\n      <td>56</td>\n      <td>Terra</td>\n      <td>MODIS</td>\n      <td>48</td>\n      <td>6.3</td>\n      <td>297.3</td>\n      <td>6.6</td>\n      <td>0</td>\n    </tr>\n    <tr>\n      <th>1</th>\n      <td>1</td>\n      <td>-11.7924</td>\n      <td>142.0850</td>\n      <td>319.3</td>\n      <td>1.0</td>\n      <td>1.0</td>\n      <td>2019-08-01</td>\n      <td>56</td>\n      <td>Terra</td>\n      <td>MODIS</td>\n      <td>71</td>\n      <td>6.3</td>\n      <td>297.3</td>\n      <td>11.3</td>\n      <td>0</td>\n    </tr>\n    <tr>\n      <th>2</th>\n      <td>2</td>\n      <td>-12.8398</td>\n      <td>132.8744</td>\n      <td>311.6</td>\n      <td>3.1</td>\n      <td>1.7</td>\n      <td>2019-08-01</td>\n      <td>57</td>\n      <td>Terra</td>\n      <td>MODIS</td>\n      <td>42</td>\n      <td>6.3</td>\n      <td>298.7</td>\n      <td>23.1</td>\n      <td>0</td>\n    </tr>\n    <tr>\n      <th>3</th>\n      <td>3</td>\n      <td>-14.4306</td>\n      <td>143.3035</td>\n      <td>310.1</td>\n      <td>1.1</td>\n      <td>1.1</td>\n      <td>2019-08-01</td>\n      <td>57</td>\n      <td>Terra</td>\n      <td>MODIS</td>\n      <td>33</td>\n      <td>6.3</td>\n      <td>296.1</td>\n      <td>6.5</td>\n      <td>0</td>\n    </tr>\n    <tr>\n      <th>4</th>\n      <td>4</td>\n      <td>-12.4953</td>\n      <td>131.4897</td>\n      <td>310.3</td>\n      <td>4.0</td>\n      <td>1.9</td>\n      <td>2019-08-01</td>\n      <td>57</td>\n      <td>Terra</td>\n      <td>MODIS</td>\n      <td>36</td>\n      <td>6.3</td>\n      <td>298.8</td>\n      <td>27.6</td>\n      <td>0</td>\n    </tr>\n    <tr>\n      <th>...</th>\n      <td>...</td>\n      <td>...</td>\n      <td>...</td>\n      <td>...</td>\n      <td>...</td>\n      <td>...</td>\n      <td>...</td>\n      <td>...</td>\n      <td>...</td>\n      <td>...</td>\n      <td>...</td>\n      <td>...</td>\n      <td>...</td>\n      <td>...</td>\n      <td>...</td>\n    </tr>\n    <tr>\n      <th>36006</th>\n      <td>36006</td>\n      <td>-28.0656</td>\n      <td>131.6334</td>\n      <td>312.7</td>\n      <td>1.2</td>\n      <td>1.1</td>\n      <td>2019-09-30</td>\n      <td>1644</td>\n      <td>Aqua</td>\n      <td>MODIS</td>\n      <td>85</td>\n      <td>6.3</td>\n      <td>292.9</td>\n      <td>14.2</td>\n      <td>0</td>\n    </tr>\n    <tr>\n      <th>36007</th>\n      <td>36007</td>\n      <td>-28.2625</td>\n      <td>128.5494</td>\n      <td>304.9</td>\n      <td>1.0</td>\n      <td>1.0</td>\n      <td>2019-09-30</td>\n      <td>1644</td>\n      <td>Aqua</td>\n      <td>MODIS</td>\n      <td>27</td>\n      <td>6.3</td>\n      <td>290.9</td>\n      <td>6.4</td>\n      <td>0</td>\n    </tr>\n    <tr>\n      <th>36008</th>\n      <td>36008</td>\n      <td>-28.2941</td>\n      <td>128.5123</td>\n      <td>301.7</td>\n      <td>1.0</td>\n      <td>1.0</td>\n      <td>2019-09-30</td>\n      <td>1644</td>\n      <td>Aqua</td>\n      <td>MODIS</td>\n      <td>43</td>\n      <td>6.3</td>\n      <td>290.4</td>\n      <td>5.5</td>\n      <td>0</td>\n    </tr>\n    <tr>\n      <th>36009</th>\n      <td>36009</td>\n      <td>-28.3001</td>\n      <td>128.5530</td>\n      <td>303.6</td>\n      <td>1.0</td>\n      <td>1.0</td>\n      <td>2019-09-30</td>\n      <td>1644</td>\n      <td>Aqua</td>\n      <td>MODIS</td>\n      <td>41</td>\n      <td>6.3</td>\n      <td>290.3</td>\n      <td>5.7</td>\n      <td>0</td>\n    </tr>\n    <tr>\n      <th>36010</th>\n      <td>36010</td>\n      <td>-30.8641</td>\n      <td>121.4995</td>\n      <td>309.1</td>\n      <td>1.8</td>\n      <td>1.3</td>\n      <td>2019-09-30</td>\n      <td>1645</td>\n      <td>Aqua</td>\n      <td>MODIS</td>\n      <td>77</td>\n      <td>6.3</td>\n      <td>290.9</td>\n      <td>23.0</td>\n      <td>2</td>\n    </tr>\n  </tbody>\n</table>\n<p>36011 rows × 15 columns</p>\n</div>"
     },
     "metadata": {},
     "execution_count": 21
    }
   ],
   "source": [
    "df2.drop('daynight', axis=1, inplace=True)\n",
    "df2"
   ]
  },
  {
   "cell_type": "code",
   "execution_count": 22,
   "metadata": {},
   "outputs": [
    {
     "output_type": "execute_result",
     "data": {
      "text/plain": [
       "        fire_id   latitude  longitude  bright1  scan  track    acq_date  \\\n",
       "0             0  -34.45902  150.88040    326.5  0.60   0.71  2019-08-01   \n",
       "1             1  -31.70724  151.07191    367.0  0.56   0.69  2019-08-01   \n",
       "2             2  -31.39626  149.65253    325.2  0.68   0.74  2019-08-01   \n",
       "3             3  -30.39774  152.06432    347.8  0.48   0.65  2019-08-01   \n",
       "4             4  -31.20248  151.89766    350.7  0.50   0.66  2019-08-01   \n",
       "...         ...        ...        ...      ...   ...    ...         ...   \n",
       "184773   184773  -32.37209  116.10032    296.1  0.48   0.40  2019-09-30   \n",
       "184774   184774  -32.38958  116.11151    296.1  0.48   0.40  2019-09-30   \n",
       "184775   184775  -33.12481  116.03968    299.9  0.47   0.40  2019-09-30   \n",
       "184776   184776   -33.6348  122.92641    296.2  0.43   0.38  2019-09-30   \n",
       "184777   184777  -33.63897  122.93050    297.3  0.44   0.38  2019-09-30   \n",
       "\n",
       "        acq_time satellite instrument confidence  version  bright2   frp  \\\n",
       "0            246         N      VIIRS          n        1    290.7   5.8   \n",
       "1            247         N      VIIRS          h        1    291.9  10.4   \n",
       "2            247         N      VIIRS          n        1    292.7   5.6   \n",
       "3            247         N      VIIRS          n        1    287.6   9.1   \n",
       "4            247         N      VIIRS          n        1    292.3   9.4   \n",
       "...          ...       ...        ...        ...      ...      ...   ...   \n",
       "184773      1702         N      VIIRS          n        1    284.8   1.2   \n",
       "184774      1702         N      VIIRS          n        1    284.7   1.1   \n",
       "184775      1702         N      VIIRS          n        1    285.0   1.3   \n",
       "184776      1702         N      VIIRS          n        1    285.9   0.5   \n",
       "184777      1702         N      VIIRS          n        1    285.9   0.6   \n",
       "\n",
       "        fire_type  \n",
       "0               3  \n",
       "1               0  \n",
       "2               0  \n",
       "3               0  \n",
       "4               0  \n",
       "...           ...  \n",
       "184773          0  \n",
       "184774          0  \n",
       "184775          0  \n",
       "184776          0  \n",
       "184777          0  \n",
       "\n",
       "[184778 rows x 15 columns]"
      ],
      "text/html": "<div>\n<style scoped>\n    .dataframe tbody tr th:only-of-type {\n        vertical-align: middle;\n    }\n\n    .dataframe tbody tr th {\n        vertical-align: top;\n    }\n\n    .dataframe thead th {\n        text-align: right;\n    }\n</style>\n<table border=\"1\" class=\"dataframe\">\n  <thead>\n    <tr style=\"text-align: right;\">\n      <th></th>\n      <th>fire_id</th>\n      <th>latitude</th>\n      <th>longitude</th>\n      <th>bright1</th>\n      <th>scan</th>\n      <th>track</th>\n      <th>acq_date</th>\n      <th>acq_time</th>\n      <th>satellite</th>\n      <th>instrument</th>\n      <th>confidence</th>\n      <th>version</th>\n      <th>bright2</th>\n      <th>frp</th>\n      <th>fire_type</th>\n    </tr>\n  </thead>\n  <tbody>\n    <tr>\n      <th>0</th>\n      <td>0</td>\n      <td>-34.45902</td>\n      <td>150.88040</td>\n      <td>326.5</td>\n      <td>0.60</td>\n      <td>0.71</td>\n      <td>2019-08-01</td>\n      <td>246</td>\n      <td>N</td>\n      <td>VIIRS</td>\n      <td>n</td>\n      <td>1</td>\n      <td>290.7</td>\n      <td>5.8</td>\n      <td>3</td>\n    </tr>\n    <tr>\n      <th>1</th>\n      <td>1</td>\n      <td>-31.70724</td>\n      <td>151.07191</td>\n      <td>367.0</td>\n      <td>0.56</td>\n      <td>0.69</td>\n      <td>2019-08-01</td>\n      <td>247</td>\n      <td>N</td>\n      <td>VIIRS</td>\n      <td>h</td>\n      <td>1</td>\n      <td>291.9</td>\n      <td>10.4</td>\n      <td>0</td>\n    </tr>\n    <tr>\n      <th>2</th>\n      <td>2</td>\n      <td>-31.39626</td>\n      <td>149.65253</td>\n      <td>325.2</td>\n      <td>0.68</td>\n      <td>0.74</td>\n      <td>2019-08-01</td>\n      <td>247</td>\n      <td>N</td>\n      <td>VIIRS</td>\n      <td>n</td>\n      <td>1</td>\n      <td>292.7</td>\n      <td>5.6</td>\n      <td>0</td>\n    </tr>\n    <tr>\n      <th>3</th>\n      <td>3</td>\n      <td>-30.39774</td>\n      <td>152.06432</td>\n      <td>347.8</td>\n      <td>0.48</td>\n      <td>0.65</td>\n      <td>2019-08-01</td>\n      <td>247</td>\n      <td>N</td>\n      <td>VIIRS</td>\n      <td>n</td>\n      <td>1</td>\n      <td>287.6</td>\n      <td>9.1</td>\n      <td>0</td>\n    </tr>\n    <tr>\n      <th>4</th>\n      <td>4</td>\n      <td>-31.20248</td>\n      <td>151.89766</td>\n      <td>350.7</td>\n      <td>0.50</td>\n      <td>0.66</td>\n      <td>2019-08-01</td>\n      <td>247</td>\n      <td>N</td>\n      <td>VIIRS</td>\n      <td>n</td>\n      <td>1</td>\n      <td>292.3</td>\n      <td>9.4</td>\n      <td>0</td>\n    </tr>\n    <tr>\n      <th>...</th>\n      <td>...</td>\n      <td>...</td>\n      <td>...</td>\n      <td>...</td>\n      <td>...</td>\n      <td>...</td>\n      <td>...</td>\n      <td>...</td>\n      <td>...</td>\n      <td>...</td>\n      <td>...</td>\n      <td>...</td>\n      <td>...</td>\n      <td>...</td>\n      <td>...</td>\n    </tr>\n    <tr>\n      <th>184773</th>\n      <td>184773</td>\n      <td>-32.37209</td>\n      <td>116.10032</td>\n      <td>296.1</td>\n      <td>0.48</td>\n      <td>0.40</td>\n      <td>2019-09-30</td>\n      <td>1702</td>\n      <td>N</td>\n      <td>VIIRS</td>\n      <td>n</td>\n      <td>1</td>\n      <td>284.8</td>\n      <td>1.2</td>\n      <td>0</td>\n    </tr>\n    <tr>\n      <th>184774</th>\n      <td>184774</td>\n      <td>-32.38958</td>\n      <td>116.11151</td>\n      <td>296.1</td>\n      <td>0.48</td>\n      <td>0.40</td>\n      <td>2019-09-30</td>\n      <td>1702</td>\n      <td>N</td>\n      <td>VIIRS</td>\n      <td>n</td>\n      <td>1</td>\n      <td>284.7</td>\n      <td>1.1</td>\n      <td>0</td>\n    </tr>\n    <tr>\n      <th>184775</th>\n      <td>184775</td>\n      <td>-33.12481</td>\n      <td>116.03968</td>\n      <td>299.9</td>\n      <td>0.47</td>\n      <td>0.40</td>\n      <td>2019-09-30</td>\n      <td>1702</td>\n      <td>N</td>\n      <td>VIIRS</td>\n      <td>n</td>\n      <td>1</td>\n      <td>285.0</td>\n      <td>1.3</td>\n      <td>0</td>\n    </tr>\n    <tr>\n      <th>184776</th>\n      <td>184776</td>\n      <td>-33.6348</td>\n      <td>122.92641</td>\n      <td>296.2</td>\n      <td>0.43</td>\n      <td>0.38</td>\n      <td>2019-09-30</td>\n      <td>1702</td>\n      <td>N</td>\n      <td>VIIRS</td>\n      <td>n</td>\n      <td>1</td>\n      <td>285.9</td>\n      <td>0.5</td>\n      <td>0</td>\n    </tr>\n    <tr>\n      <th>184777</th>\n      <td>184777</td>\n      <td>-33.63897</td>\n      <td>122.93050</td>\n      <td>297.3</td>\n      <td>0.44</td>\n      <td>0.38</td>\n      <td>2019-09-30</td>\n      <td>1702</td>\n      <td>N</td>\n      <td>VIIRS</td>\n      <td>n</td>\n      <td>1</td>\n      <td>285.9</td>\n      <td>0.6</td>\n      <td>0</td>\n    </tr>\n  </tbody>\n</table>\n<p>184778 rows × 15 columns</p>\n</div>"
     },
     "metadata": {},
     "execution_count": 22
    }
   ],
   "source": [
    "df1"
   ]
  },
  {
   "cell_type": "code",
   "execution_count": 12,
   "metadata": {},
   "outputs": [],
   "source": [
    "df2.rename(columns={'brightness':'bright1', 'bright_t31':'bright2'}, inplace=True)\n",
    "df1.rename(columns={'bright_ti4':'bright1', 'bright_ti5':'bright2'}, inplace=True)"
   ]
  },
  {
   "cell_type": "code",
   "execution_count": 40,
   "metadata": {},
   "outputs": [
    {
     "output_type": "execute_result",
     "data": {
      "text/plain": [
       "          latitude  longitude  bright1  scan  track    acq_date  acq_time  \\\n",
       "fire_id                                                                     \n",
       "0          -11.807  142.05830    313.0  1.00   1.00  2019-08-01        56   \n",
       "1         -11.7924  142.08500    319.3  1.00   1.00  2019-08-01        56   \n",
       "2         -12.8398  132.87440    311.6  3.10   1.70  2019-08-01        57   \n",
       "3         -14.4306  143.30350    310.1  1.10   1.10  2019-08-01        57   \n",
       "4         -12.4953  131.48970    310.3  4.00   1.90  2019-08-01        57   \n",
       "...            ...        ...      ...   ...    ...         ...       ...   \n",
       "220784   -32.37209  116.10032    296.1  0.48   0.40  2019-09-30      1702   \n",
       "220785   -32.38958  116.11151    296.1  0.48   0.40  2019-09-30      1702   \n",
       "220786   -33.12481  116.03968    299.9  0.47   0.40  2019-09-30      1702   \n",
       "220787    -33.6348  122.92641    296.2  0.43   0.38  2019-09-30      1702   \n",
       "220788   -33.63897  122.93050    297.3  0.44   0.38  2019-09-30      1702   \n",
       "\n",
       "        satellite instrument confidence  version  bright2   frp  fire_type  \n",
       "fire_id                                                                     \n",
       "0           Terra      MODIS         48      6.3    297.3   6.6          0  \n",
       "1           Terra      MODIS         71      6.3    297.3  11.3          0  \n",
       "2           Terra      MODIS         42      6.3    298.7  23.1          0  \n",
       "3           Terra      MODIS         33      6.3    296.1   6.5          0  \n",
       "4           Terra      MODIS         36      6.3    298.8  27.6          0  \n",
       "...           ...        ...        ...      ...      ...   ...        ...  \n",
       "220784          N      VIIRS          n      1.0    284.8   1.2          0  \n",
       "220785          N      VIIRS          n      1.0    284.7   1.1          0  \n",
       "220786          N      VIIRS          n      1.0    285.0   1.3          0  \n",
       "220787          N      VIIRS          n      1.0    285.9   0.5          0  \n",
       "220788          N      VIIRS          n      1.0    285.9   0.6          0  \n",
       "\n",
       "[220789 rows x 14 columns]"
      ],
      "text/html": "<div>\n<style scoped>\n    .dataframe tbody tr th:only-of-type {\n        vertical-align: middle;\n    }\n\n    .dataframe tbody tr th {\n        vertical-align: top;\n    }\n\n    .dataframe thead th {\n        text-align: right;\n    }\n</style>\n<table border=\"1\" class=\"dataframe\">\n  <thead>\n    <tr style=\"text-align: right;\">\n      <th></th>\n      <th>latitude</th>\n      <th>longitude</th>\n      <th>bright1</th>\n      <th>scan</th>\n      <th>track</th>\n      <th>acq_date</th>\n      <th>acq_time</th>\n      <th>satellite</th>\n      <th>instrument</th>\n      <th>confidence</th>\n      <th>version</th>\n      <th>bright2</th>\n      <th>frp</th>\n      <th>fire_type</th>\n    </tr>\n    <tr>\n      <th>fire_id</th>\n      <th></th>\n      <th></th>\n      <th></th>\n      <th></th>\n      <th></th>\n      <th></th>\n      <th></th>\n      <th></th>\n      <th></th>\n      <th></th>\n      <th></th>\n      <th></th>\n      <th></th>\n      <th></th>\n    </tr>\n  </thead>\n  <tbody>\n    <tr>\n      <th>0</th>\n      <td>-11.807</td>\n      <td>142.05830</td>\n      <td>313.0</td>\n      <td>1.00</td>\n      <td>1.00</td>\n      <td>2019-08-01</td>\n      <td>56</td>\n      <td>Terra</td>\n      <td>MODIS</td>\n      <td>48</td>\n      <td>6.3</td>\n      <td>297.3</td>\n      <td>6.6</td>\n      <td>0</td>\n    </tr>\n    <tr>\n      <th>1</th>\n      <td>-11.7924</td>\n      <td>142.08500</td>\n      <td>319.3</td>\n      <td>1.00</td>\n      <td>1.00</td>\n      <td>2019-08-01</td>\n      <td>56</td>\n      <td>Terra</td>\n      <td>MODIS</td>\n      <td>71</td>\n      <td>6.3</td>\n      <td>297.3</td>\n      <td>11.3</td>\n      <td>0</td>\n    </tr>\n    <tr>\n      <th>2</th>\n      <td>-12.8398</td>\n      <td>132.87440</td>\n      <td>311.6</td>\n      <td>3.10</td>\n      <td>1.70</td>\n      <td>2019-08-01</td>\n      <td>57</td>\n      <td>Terra</td>\n      <td>MODIS</td>\n      <td>42</td>\n      <td>6.3</td>\n      <td>298.7</td>\n      <td>23.1</td>\n      <td>0</td>\n    </tr>\n    <tr>\n      <th>3</th>\n      <td>-14.4306</td>\n      <td>143.30350</td>\n      <td>310.1</td>\n      <td>1.10</td>\n      <td>1.10</td>\n      <td>2019-08-01</td>\n      <td>57</td>\n      <td>Terra</td>\n      <td>MODIS</td>\n      <td>33</td>\n      <td>6.3</td>\n      <td>296.1</td>\n      <td>6.5</td>\n      <td>0</td>\n    </tr>\n    <tr>\n      <th>4</th>\n      <td>-12.4953</td>\n      <td>131.48970</td>\n      <td>310.3</td>\n      <td>4.00</td>\n      <td>1.90</td>\n      <td>2019-08-01</td>\n      <td>57</td>\n      <td>Terra</td>\n      <td>MODIS</td>\n      <td>36</td>\n      <td>6.3</td>\n      <td>298.8</td>\n      <td>27.6</td>\n      <td>0</td>\n    </tr>\n    <tr>\n      <th>...</th>\n      <td>...</td>\n      <td>...</td>\n      <td>...</td>\n      <td>...</td>\n      <td>...</td>\n      <td>...</td>\n      <td>...</td>\n      <td>...</td>\n      <td>...</td>\n      <td>...</td>\n      <td>...</td>\n      <td>...</td>\n      <td>...</td>\n      <td>...</td>\n    </tr>\n    <tr>\n      <th>220784</th>\n      <td>-32.37209</td>\n      <td>116.10032</td>\n      <td>296.1</td>\n      <td>0.48</td>\n      <td>0.40</td>\n      <td>2019-09-30</td>\n      <td>1702</td>\n      <td>N</td>\n      <td>VIIRS</td>\n      <td>n</td>\n      <td>1.0</td>\n      <td>284.8</td>\n      <td>1.2</td>\n      <td>0</td>\n    </tr>\n    <tr>\n      <th>220785</th>\n      <td>-32.38958</td>\n      <td>116.11151</td>\n      <td>296.1</td>\n      <td>0.48</td>\n      <td>0.40</td>\n      <td>2019-09-30</td>\n      <td>1702</td>\n      <td>N</td>\n      <td>VIIRS</td>\n      <td>n</td>\n      <td>1.0</td>\n      <td>284.7</td>\n      <td>1.1</td>\n      <td>0</td>\n    </tr>\n    <tr>\n      <th>220786</th>\n      <td>-33.12481</td>\n      <td>116.03968</td>\n      <td>299.9</td>\n      <td>0.47</td>\n      <td>0.40</td>\n      <td>2019-09-30</td>\n      <td>1702</td>\n      <td>N</td>\n      <td>VIIRS</td>\n      <td>n</td>\n      <td>1.0</td>\n      <td>285.0</td>\n      <td>1.3</td>\n      <td>0</td>\n    </tr>\n    <tr>\n      <th>220787</th>\n      <td>-33.6348</td>\n      <td>122.92641</td>\n      <td>296.2</td>\n      <td>0.43</td>\n      <td>0.38</td>\n      <td>2019-09-30</td>\n      <td>1702</td>\n      <td>N</td>\n      <td>VIIRS</td>\n      <td>n</td>\n      <td>1.0</td>\n      <td>285.9</td>\n      <td>0.5</td>\n      <td>0</td>\n    </tr>\n    <tr>\n      <th>220788</th>\n      <td>-33.63897</td>\n      <td>122.93050</td>\n      <td>297.3</td>\n      <td>0.44</td>\n      <td>0.38</td>\n      <td>2019-09-30</td>\n      <td>1702</td>\n      <td>N</td>\n      <td>VIIRS</td>\n      <td>n</td>\n      <td>1.0</td>\n      <td>285.9</td>\n      <td>0.6</td>\n      <td>0</td>\n    </tr>\n  </tbody>\n</table>\n<p>220789 rows × 14 columns</p>\n</div>"
     },
     "metadata": {},
     "execution_count": 40
    }
   ],
   "source": [
    "df = pd.concat([df2, df1], ignore_index=True)\n",
    "df.drop('fire_id', axis=1, inplace=True)\n",
    "df.reset_index(inplace=True)\n",
    "df.rename(columns={'index':'fire_id'}, inplace=True)\n",
    "df.set_index('fire_id', inplace=True)\n",
    "df"
   ]
  },
  {
   "cell_type": "code",
   "execution_count": 41,
   "metadata": {},
   "outputs": [],
   "source": [
    "# ELIMINAMOS LA COLUMNA ACQ_DATE DADO QUE NO APORTAN VALOR\n",
    "df.drop('acq_date', axis=1, inplace=True)"
   ]
  },
  {
   "cell_type": "code",
   "execution_count": 44,
   "metadata": {},
   "outputs": [],
   "source": [
    "# HACEMOS GET DUMMIES PARA STELLITE E INSTRUMENT\n",
    "df = pd.concat([df, pd.get_dummies(df[[\"satellite\", \"instrument\"]])], axis=1)\n",
    "df.drop(['satellite', 'instrument'], axis=1, inplace=True)"
   ]
  },
  {
   "cell_type": "code",
   "execution_count": 52,
   "metadata": {},
   "outputs": [
    {
     "output_type": "execute_result",
     "data": {
      "text/plain": [
       "         latitude  longitude  bright1  scan  track  acq_time  version  \\\n",
       "fire_id                                                                 \n",
       "0       -11.80700  142.05830    313.0  1.00   1.00        56      6.3   \n",
       "1       -11.79240  142.08500    319.3  1.00   1.00        56      6.3   \n",
       "2       -12.83980  132.87440    311.6  3.10   1.70        57      6.3   \n",
       "3       -14.43060  143.30350    310.1  1.10   1.10        57      6.3   \n",
       "4       -12.49530  131.48970    310.3  4.00   1.90        57      6.3   \n",
       "...           ...        ...      ...   ...    ...       ...      ...   \n",
       "220784  -32.37209  116.10032    296.1  0.48   0.40      1702      1.0   \n",
       "220785  -32.38958  116.11151    296.1  0.48   0.40      1702      1.0   \n",
       "220786  -33.12481  116.03968    299.9  0.47   0.40      1702      1.0   \n",
       "220787  -33.63480  122.92641    296.2  0.43   0.38      1702      1.0   \n",
       "220788  -33.63897  122.93050    297.3  0.44   0.38      1702      1.0   \n",
       "\n",
       "         bright2   frp  fire_type  satellite_Aqua  satellite_N  \\\n",
       "fire_id                                                          \n",
       "0          297.3   6.6          0               0            0   \n",
       "1          297.3  11.3          0               0            0   \n",
       "2          298.7  23.1          0               0            0   \n",
       "3          296.1   6.5          0               0            0   \n",
       "4          298.8  27.6          0               0            0   \n",
       "...          ...   ...        ...             ...          ...   \n",
       "220784     284.8   1.2          0               0            1   \n",
       "220785     284.7   1.1          0               0            1   \n",
       "220786     285.0   1.3          0               0            1   \n",
       "220787     285.9   0.5          0               0            1   \n",
       "220788     285.9   0.6          0               0            1   \n",
       "\n",
       "         satellite_Terra  instrument_MODIS  instrument_VIIRS  satellite_Aqua  \\\n",
       "fire_id                                                                        \n",
       "0                      1                 1                 0               0   \n",
       "1                      1                 1                 0               0   \n",
       "2                      1                 1                 0               0   \n",
       "3                      1                 1                 0               0   \n",
       "4                      1                 1                 0               0   \n",
       "...                  ...               ...               ...             ...   \n",
       "220784                 0                 0                 1               0   \n",
       "220785                 0                 0                 1               0   \n",
       "220786                 0                 0                 1               0   \n",
       "220787                 0                 0                 1               0   \n",
       "220788                 0                 0                 1               0   \n",
       "\n",
       "         satellite_N  satellite_Terra  instrument_MODIS  instrument_VIIRS  \n",
       "fire_id                                                                    \n",
       "0                  0                1                 1                 0  \n",
       "1                  0                1                 1                 0  \n",
       "2                  0                1                 1                 0  \n",
       "3                  0                1                 1                 0  \n",
       "4                  0                1                 1                 0  \n",
       "...              ...              ...               ...               ...  \n",
       "220784             1                0                 0                 1  \n",
       "220785             1                0                 0                 1  \n",
       "220786             1                0                 0                 1  \n",
       "220787             1                0                 0                 1  \n",
       "220788             1                0                 0                 1  \n",
       "\n",
       "[220789 rows x 20 columns]"
      ],
      "text/html": "<div>\n<style scoped>\n    .dataframe tbody tr th:only-of-type {\n        vertical-align: middle;\n    }\n\n    .dataframe tbody tr th {\n        vertical-align: top;\n    }\n\n    .dataframe thead th {\n        text-align: right;\n    }\n</style>\n<table border=\"1\" class=\"dataframe\">\n  <thead>\n    <tr style=\"text-align: right;\">\n      <th></th>\n      <th>latitude</th>\n      <th>longitude</th>\n      <th>bright1</th>\n      <th>scan</th>\n      <th>track</th>\n      <th>acq_time</th>\n      <th>version</th>\n      <th>bright2</th>\n      <th>frp</th>\n      <th>fire_type</th>\n      <th>satellite_Aqua</th>\n      <th>satellite_N</th>\n      <th>satellite_Terra</th>\n      <th>instrument_MODIS</th>\n      <th>instrument_VIIRS</th>\n      <th>satellite_Aqua</th>\n      <th>satellite_N</th>\n      <th>satellite_Terra</th>\n      <th>instrument_MODIS</th>\n      <th>instrument_VIIRS</th>\n    </tr>\n    <tr>\n      <th>fire_id</th>\n      <th></th>\n      <th></th>\n      <th></th>\n      <th></th>\n      <th></th>\n      <th></th>\n      <th></th>\n      <th></th>\n      <th></th>\n      <th></th>\n      <th></th>\n      <th></th>\n      <th></th>\n      <th></th>\n      <th></th>\n      <th></th>\n      <th></th>\n      <th></th>\n      <th></th>\n      <th></th>\n    </tr>\n  </thead>\n  <tbody>\n    <tr>\n      <th>0</th>\n      <td>-11.80700</td>\n      <td>142.05830</td>\n      <td>313.0</td>\n      <td>1.00</td>\n      <td>1.00</td>\n      <td>56</td>\n      <td>6.3</td>\n      <td>297.3</td>\n      <td>6.6</td>\n      <td>0</td>\n      <td>0</td>\n      <td>0</td>\n      <td>1</td>\n      <td>1</td>\n      <td>0</td>\n      <td>0</td>\n      <td>0</td>\n      <td>1</td>\n      <td>1</td>\n      <td>0</td>\n    </tr>\n    <tr>\n      <th>1</th>\n      <td>-11.79240</td>\n      <td>142.08500</td>\n      <td>319.3</td>\n      <td>1.00</td>\n      <td>1.00</td>\n      <td>56</td>\n      <td>6.3</td>\n      <td>297.3</td>\n      <td>11.3</td>\n      <td>0</td>\n      <td>0</td>\n      <td>0</td>\n      <td>1</td>\n      <td>1</td>\n      <td>0</td>\n      <td>0</td>\n      <td>0</td>\n      <td>1</td>\n      <td>1</td>\n      <td>0</td>\n    </tr>\n    <tr>\n      <th>2</th>\n      <td>-12.83980</td>\n      <td>132.87440</td>\n      <td>311.6</td>\n      <td>3.10</td>\n      <td>1.70</td>\n      <td>57</td>\n      <td>6.3</td>\n      <td>298.7</td>\n      <td>23.1</td>\n      <td>0</td>\n      <td>0</td>\n      <td>0</td>\n      <td>1</td>\n      <td>1</td>\n      <td>0</td>\n      <td>0</td>\n      <td>0</td>\n      <td>1</td>\n      <td>1</td>\n      <td>0</td>\n    </tr>\n    <tr>\n      <th>3</th>\n      <td>-14.43060</td>\n      <td>143.30350</td>\n      <td>310.1</td>\n      <td>1.10</td>\n      <td>1.10</td>\n      <td>57</td>\n      <td>6.3</td>\n      <td>296.1</td>\n      <td>6.5</td>\n      <td>0</td>\n      <td>0</td>\n      <td>0</td>\n      <td>1</td>\n      <td>1</td>\n      <td>0</td>\n      <td>0</td>\n      <td>0</td>\n      <td>1</td>\n      <td>1</td>\n      <td>0</td>\n    </tr>\n    <tr>\n      <th>4</th>\n      <td>-12.49530</td>\n      <td>131.48970</td>\n      <td>310.3</td>\n      <td>4.00</td>\n      <td>1.90</td>\n      <td>57</td>\n      <td>6.3</td>\n      <td>298.8</td>\n      <td>27.6</td>\n      <td>0</td>\n      <td>0</td>\n      <td>0</td>\n      <td>1</td>\n      <td>1</td>\n      <td>0</td>\n      <td>0</td>\n      <td>0</td>\n      <td>1</td>\n      <td>1</td>\n      <td>0</td>\n    </tr>\n    <tr>\n      <th>...</th>\n      <td>...</td>\n      <td>...</td>\n      <td>...</td>\n      <td>...</td>\n      <td>...</td>\n      <td>...</td>\n      <td>...</td>\n      <td>...</td>\n      <td>...</td>\n      <td>...</td>\n      <td>...</td>\n      <td>...</td>\n      <td>...</td>\n      <td>...</td>\n      <td>...</td>\n      <td>...</td>\n      <td>...</td>\n      <td>...</td>\n      <td>...</td>\n      <td>...</td>\n    </tr>\n    <tr>\n      <th>220784</th>\n      <td>-32.37209</td>\n      <td>116.10032</td>\n      <td>296.1</td>\n      <td>0.48</td>\n      <td>0.40</td>\n      <td>1702</td>\n      <td>1.0</td>\n      <td>284.8</td>\n      <td>1.2</td>\n      <td>0</td>\n      <td>0</td>\n      <td>1</td>\n      <td>0</td>\n      <td>0</td>\n      <td>1</td>\n      <td>0</td>\n      <td>1</td>\n      <td>0</td>\n      <td>0</td>\n      <td>1</td>\n    </tr>\n    <tr>\n      <th>220785</th>\n      <td>-32.38958</td>\n      <td>116.11151</td>\n      <td>296.1</td>\n      <td>0.48</td>\n      <td>0.40</td>\n      <td>1702</td>\n      <td>1.0</td>\n      <td>284.7</td>\n      <td>1.1</td>\n      <td>0</td>\n      <td>0</td>\n      <td>1</td>\n      <td>0</td>\n      <td>0</td>\n      <td>1</td>\n      <td>0</td>\n      <td>1</td>\n      <td>0</td>\n      <td>0</td>\n      <td>1</td>\n    </tr>\n    <tr>\n      <th>220786</th>\n      <td>-33.12481</td>\n      <td>116.03968</td>\n      <td>299.9</td>\n      <td>0.47</td>\n      <td>0.40</td>\n      <td>1702</td>\n      <td>1.0</td>\n      <td>285.0</td>\n      <td>1.3</td>\n      <td>0</td>\n      <td>0</td>\n      <td>1</td>\n      <td>0</td>\n      <td>0</td>\n      <td>1</td>\n      <td>0</td>\n      <td>1</td>\n      <td>0</td>\n      <td>0</td>\n      <td>1</td>\n    </tr>\n    <tr>\n      <th>220787</th>\n      <td>-33.63480</td>\n      <td>122.92641</td>\n      <td>296.2</td>\n      <td>0.43</td>\n      <td>0.38</td>\n      <td>1702</td>\n      <td>1.0</td>\n      <td>285.9</td>\n      <td>0.5</td>\n      <td>0</td>\n      <td>0</td>\n      <td>1</td>\n      <td>0</td>\n      <td>0</td>\n      <td>1</td>\n      <td>0</td>\n      <td>1</td>\n      <td>0</td>\n      <td>0</td>\n      <td>1</td>\n    </tr>\n    <tr>\n      <th>220788</th>\n      <td>-33.63897</td>\n      <td>122.93050</td>\n      <td>297.3</td>\n      <td>0.44</td>\n      <td>0.38</td>\n      <td>1702</td>\n      <td>1.0</td>\n      <td>285.9</td>\n      <td>0.6</td>\n      <td>0</td>\n      <td>0</td>\n      <td>1</td>\n      <td>0</td>\n      <td>0</td>\n      <td>1</td>\n      <td>0</td>\n      <td>1</td>\n      <td>0</td>\n      <td>0</td>\n      <td>1</td>\n    </tr>\n  </tbody>\n</table>\n<p>220789 rows × 20 columns</p>\n</div>"
     },
     "metadata": {},
     "execution_count": 52
    }
   ],
   "source": [
    "df.latitude = df.latitude.apply(lambda x: float(x))\n",
    "df.drop('confidence', axis=1, inplace=True)\n",
    "df"
   ]
  },
  {
   "cell_type": "code",
   "execution_count": 28,
   "metadata": {},
   "outputs": [
    {
     "output_type": "execute_result",
     "data": {
      "text/plain": [
       "array([0, 2, 3], dtype=int64)"
      ]
     },
     "metadata": {},
     "execution_count": 28
    }
   ],
   "source": [
    "df.fire_type.unique()"
   ]
  },
  {
   "cell_type": "code",
   "execution_count": 54,
   "metadata": {},
   "outputs": [],
   "source": [
    "from sklearn.model_selection import train_test_split, GridSearchCV\n",
    "from sklearn.ensemble import RandomForestClassifier\n",
    "from sklearn.svm import SVC\n",
    "from sklearn.linear_model import LogisticRegression\n",
    "from sklearn.pipeline import Pipeline\n",
    "from sklearn.decomposition import PCA\n",
    "\n",
    "import numpy as np"
   ]
  },
  {
   "cell_type": "code",
   "execution_count": 55,
   "metadata": {},
   "outputs": [],
   "source": [
    "y = np.array(df['fire_type'])\n",
    "X = np.array(df.drop('fire_type', axis=1))\n",
    "\n",
    "# PONEMOS 80% de TEST PARA REDUCIR EL TIEMPO DE ENTRENAMIENTO\n",
    "X_train, X_test, y_train, y_test = train_test_split(X, y, test_size=0.8, random_state=42)"
   ]
  },
  {
   "cell_type": "code",
   "execution_count": 58,
   "metadata": {},
   "outputs": [
    {
     "output_type": "stream",
     "name": "stdout",
     "text": [
      "Fitting 10 folds for each of 3 candidates, totalling 30 fits\n",
      "[CV 1/10; 1/3] START reg=RandomForestClassifier()...............................\n",
      "[CV 1/10; 1/3] END reg=RandomForestClassifier();, score=(train=1.000, test=0.959) total time=   6.8s\n",
      "[CV 2/10; 1/3] START reg=RandomForestClassifier()...............................\n",
      "[CV 2/10; 1/3] END reg=RandomForestClassifier();, score=(train=1.000, test=0.962) total time=   6.9s\n",
      "[CV 3/10; 1/3] START reg=RandomForestClassifier()...............................\n",
      "[CV 3/10; 1/3] END reg=RandomForestClassifier();, score=(train=1.000, test=0.959) total time=   7.0s\n",
      "[CV 4/10; 1/3] START reg=RandomForestClassifier()...............................\n",
      "[CV 4/10; 1/3] END reg=RandomForestClassifier();, score=(train=1.000, test=0.962) total time=   6.7s\n",
      "[CV 5/10; 1/3] START reg=RandomForestClassifier()...............................\n",
      "[CV 5/10; 1/3] END reg=RandomForestClassifier();, score=(train=1.000, test=0.959) total time=   6.9s\n",
      "[CV 6/10; 1/3] START reg=RandomForestClassifier()...............................\n",
      "[CV 6/10; 1/3] END reg=RandomForestClassifier();, score=(train=1.000, test=0.957) total time=   6.8s\n",
      "[CV 7/10; 1/3] START reg=RandomForestClassifier()...............................\n",
      "[CV 7/10; 1/3] END reg=RandomForestClassifier();, score=(train=1.000, test=0.956) total time=   6.8s\n",
      "[CV 8/10; 1/3] START reg=RandomForestClassifier()...............................\n",
      "[CV 8/10; 1/3] END reg=RandomForestClassifier();, score=(train=1.000, test=0.957) total time=   6.6s\n",
      "[CV 9/10; 1/3] START reg=RandomForestClassifier()...............................\n",
      "[CV 9/10; 1/3] END reg=RandomForestClassifier();, score=(train=1.000, test=0.957) total time=   6.9s\n",
      "[CV 10/10; 1/3] START reg=RandomForestClassifier()..............................\n",
      "[CV 10/10; 1/3] END reg=RandomForestClassifier();, score=(train=1.000, test=0.960) total time=   6.8s\n",
      "[CV 1/10; 2/3] START reg=SVC()..................................................\n",
      "[CV 1/10; 2/3] END reg=SVC();, score=(train=0.977, test=0.977) total time=   3.0s\n",
      "[CV 2/10; 2/3] START reg=SVC()..................................................\n",
      "[CV 2/10; 2/3] END reg=SVC();, score=(train=0.977, test=0.977) total time=   3.0s\n",
      "[CV 3/10; 2/3] START reg=SVC()..................................................\n",
      "[CV 3/10; 2/3] END reg=SVC();, score=(train=0.977, test=0.977) total time=   3.0s\n",
      "[CV 4/10; 2/3] START reg=SVC()..................................................\n",
      "[CV 4/10; 2/3] END reg=SVC();, score=(train=0.977, test=0.977) total time=   3.0s\n",
      "[CV 5/10; 2/3] START reg=SVC()..................................................\n",
      "[CV 5/10; 2/3] END reg=SVC();, score=(train=0.977, test=0.977) total time=   3.0s\n",
      "[CV 6/10; 2/3] START reg=SVC()..................................................\n",
      "[CV 6/10; 2/3] END reg=SVC();, score=(train=0.977, test=0.977) total time=   3.0s\n",
      "[CV 7/10; 2/3] START reg=SVC()..................................................\n",
      "[CV 7/10; 2/3] END reg=SVC();, score=(train=0.977, test=0.977) total time=   3.1s\n",
      "[CV 8/10; 2/3] START reg=SVC()..................................................\n",
      "[CV 8/10; 2/3] END reg=SVC();, score=(train=0.977, test=0.977) total time=   3.0s\n",
      "[CV 9/10; 2/3] START reg=SVC()..................................................\n",
      "[CV 9/10; 2/3] END reg=SVC();, score=(train=0.977, test=0.977) total time=   3.0s\n",
      "[CV 10/10; 2/3] START reg=SVC().................................................\n",
      "[CV 10/10; 2/3] END reg=SVC();, score=(train=0.977, test=0.977) total time=   3.1s\n",
      "[CV 1/10; 3/3] START reg=LogisticRegression()...................................\n",
      "[CV 1/10; 3/3] END reg=LogisticRegression();, score=(train=0.977, test=0.977) total time=   0.5s\n",
      "[CV 2/10; 3/3] START reg=LogisticRegression()...................................\n",
      "[CV 2/10; 3/3] END reg=LogisticRegression();, score=(train=0.977, test=0.977) total time=   0.4s\n",
      "[CV 3/10; 3/3] START reg=LogisticRegression()...................................\n",
      "[CV 3/10; 3/3] END reg=LogisticRegression();, score=(train=0.977, test=0.977) total time=   0.5s\n",
      "[CV 4/10; 3/3] START reg=LogisticRegression()...................................\n",
      "[CV 4/10; 3/3] END reg=LogisticRegression();, score=(train=0.977, test=0.977) total time=   0.4s\n",
      "[CV 5/10; 3/3] START reg=LogisticRegression()...................................\n",
      "[CV 5/10; 3/3] END reg=LogisticRegression();, score=(train=0.977, test=0.977) total time=   0.4s\n",
      "[CV 6/10; 3/3] START reg=LogisticRegression()...................................\n",
      "[CV 6/10; 3/3] END reg=LogisticRegression();, score=(train=0.977, test=0.977) total time=   0.4s\n",
      "[CV 7/10; 3/3] START reg=LogisticRegression()...................................\n",
      "[CV 7/10; 3/3] END reg=LogisticRegression();, score=(train=0.977, test=0.977) total time=   0.4s\n",
      "[CV 8/10; 3/3] START reg=LogisticRegression()...................................\n",
      "[CV 8/10; 3/3] END reg=LogisticRegression();, score=(train=0.977, test=0.977) total time=   0.5s\n",
      "[CV 9/10; 3/3] START reg=LogisticRegression()...................................\n",
      "[CV 9/10; 3/3] END reg=LogisticRegression();, score=(train=0.977, test=0.977) total time=   0.4s\n",
      "[CV 10/10; 3/3] START reg=LogisticRegression()..................................\n",
      "[CV 10/10; 3/3] END reg=LogisticRegression();, score=(train=0.977, test=0.977) total time=   0.4s\n"
     ]
    },
    {
     "output_type": "execute_result",
     "data": {
      "text/plain": [
       "GridSearchCV(cv=10,\n",
       "             estimator=Pipeline(steps=[('pca', PCA(n_components=0.9)),\n",
       "                                       ('reg', SVC())]),\n",
       "             param_grid=[{'reg': [RandomForestClassifier()]}, {'reg': [SVC()]},\n",
       "                         {'reg': [LogisticRegression()]}],\n",
       "             return_train_score=True, verbose=100)"
      ]
     },
     "metadata": {},
     "execution_count": 58
    }
   ],
   "source": [
    "pipe = Pipeline(steps=[\n",
    "    ('pca', PCA(n_components=0.9)),\n",
    "    ('reg', SVC())\n",
    "])\n",
    "\n",
    "tree_params = {\n",
    "    'reg': [RandomForestClassifier()],\n",
    "}\n",
    "\n",
    "svc_params = {\n",
    "    'reg': [SVC()],\n",
    "}\n",
    "\n",
    "log_params = {\n",
    "    'reg': [LogisticRegression()],\n",
    "}\n",
    "\n",
    "\n",
    "\n",
    "search_space = [\n",
    "    tree_params,\n",
    "    svc_params,\n",
    "    log_params\n",
    "]\n",
    "\n",
    "grid = GridSearchCV(estimator = pipe,\n",
    "                  param_grid = search_space,\n",
    "                  cv = 10,\n",
    "                  verbose=100,\n",
    "                  return_train_score= True)\n",
    "\n",
    "grid.fit(X_train,y_train)"
   ]
  },
  {
   "cell_type": "code",
   "execution_count": 59,
   "metadata": {},
   "outputs": [
    {
     "output_type": "execute_result",
     "data": {
      "text/plain": [
       "Pipeline(steps=[('pca', PCA(n_components=0.9)), ('reg', SVC())])"
      ]
     },
     "metadata": {},
     "execution_count": 59
    }
   ],
   "source": [
    "grid.best_estimator_"
   ]
  },
  {
   "cell_type": "code",
   "execution_count": 60,
   "metadata": {},
   "outputs": [
    {
     "output_type": "execute_result",
     "data": {
      "text/plain": [
       "0.9772855945829654"
      ]
     },
     "metadata": {},
     "execution_count": 60
    }
   ],
   "source": [
    "grid.best_estimator_.score(X_train, y_train)"
   ]
  },
  {
   "cell_type": "code",
   "execution_count": 61,
   "metadata": {},
   "outputs": [
    {
     "output_type": "execute_result",
     "data": {
      "text/plain": [
       "0.9775238914805924"
      ]
     },
     "metadata": {},
     "execution_count": 61
    }
   ],
   "source": [
    "grid.best_estimator_.score(X_test, y_test)"
   ]
  },
  {
   "cell_type": "code",
   "execution_count": 77,
   "metadata": {},
   "outputs": [],
   "source": [
    "from sklearn.metrics import accuracy_score, recall_score\n",
    "\n",
    "y_pred_svc = grid.best_estimator_.predict(X_test)\n",
    "svc_acc_score = accuracy_score(y_test, y_pred_svc)\n",
    "svc_rec_score = recall_score(y_test, y_pred_svc, average='macro')\n",
    "\n",
    "data = {'student_id':['TheDataApes'], 'chosen_model':['SVC'], 'acc_score':[svc_acc_score], 'recall_score':[svc_rec_score]}"
   ]
  },
  {
   "cell_type": "code",
   "execution_count": 78,
   "metadata": {},
   "outputs": [],
   "source": [
    "lg = Pipeline(steps=[\n",
    "    ('pca', PCA(n_components=0.9)),\n",
    "    ('logreg', LogisticRegression())\n",
    "])\n",
    "\n",
    "lg.fit(X_train, y_train)\n",
    "y_pred_lg = lg.predict(X_test)\n",
    "lg_acc_score = accuracy_score(y_test, y_pred_lg)\n",
    "lg_rec_score = recall_score(y_test, y_pred_lg, average='macro')\n",
    "\n",
    "data['student_id'].append('TheDataApes')\n",
    "data['chosen_model'].append('Logistic')\n",
    "data['acc_score'].append(lg_acc_score)\n",
    "data['recall_score'].append(lg_rec_score)"
   ]
  },
  {
   "cell_type": "code",
   "execution_count": 79,
   "metadata": {},
   "outputs": [],
   "source": [
    "forest = Pipeline(steps=[\n",
    "    ('pca', PCA(n_components=0.9)),\n",
    "    ('forest', RandomForestClassifier())\n",
    "])\n",
    "\n",
    "forest.fit(X_train, y_train)\n",
    "y_pred_f = forest.predict(X_test)\n",
    "f_acc_score = accuracy_score(y_test, y_pred_f)\n",
    "f_rec_score = recall_score(y_test, y_pred_f, average='macro')\n",
    "\n",
    "data['student_id'].append('TheDataApes')\n",
    "data['chosen_model'].append('RandomForest')\n",
    "data['acc_score'].append(f_acc_score)\n",
    "data['recall_score'].append(f_rec_score)"
   ]
  },
  {
   "cell_type": "code",
   "execution_count": 81,
   "metadata": {},
   "outputs": [
    {
     "output_type": "execute_result",
     "data": {
      "text/plain": [
       "    student_id  chosen_model  acc_score  recall_score\n",
       "0  TheDataApes           SVC   0.977524      0.333333\n",
       "1  TheDataApes      Logistic   0.977524      0.333333\n",
       "2  TheDataApes  RandomForest   0.958167      0.370826"
      ],
      "text/html": "<div>\n<style scoped>\n    .dataframe tbody tr th:only-of-type {\n        vertical-align: middle;\n    }\n\n    .dataframe tbody tr th {\n        vertical-align: top;\n    }\n\n    .dataframe thead th {\n        text-align: right;\n    }\n</style>\n<table border=\"1\" class=\"dataframe\">\n  <thead>\n    <tr style=\"text-align: right;\">\n      <th></th>\n      <th>student_id</th>\n      <th>chosen_model</th>\n      <th>acc_score</th>\n      <th>recall_score</th>\n    </tr>\n  </thead>\n  <tbody>\n    <tr>\n      <th>0</th>\n      <td>TheDataApes</td>\n      <td>SVC</td>\n      <td>0.977524</td>\n      <td>0.333333</td>\n    </tr>\n    <tr>\n      <th>1</th>\n      <td>TheDataApes</td>\n      <td>Logistic</td>\n      <td>0.977524</td>\n      <td>0.333333</td>\n    </tr>\n    <tr>\n      <th>2</th>\n      <td>TheDataApes</td>\n      <td>RandomForest</td>\n      <td>0.958167</td>\n      <td>0.370826</td>\n    </tr>\n  </tbody>\n</table>\n</div>"
     },
     "metadata": {},
     "execution_count": 81
    }
   ],
   "source": [
    "results = pd.DataFrame(data, index=range(len(data['student_id'])))\n",
    "results"
   ]
  },
  {
   "cell_type": "code",
   "execution_count": 98,
   "metadata": {},
   "outputs": [
    {
     "output_type": "stream",
     "name": "stdout",
     "text": [
      "Connected to MySQL server [australia_fires]\n",
      "INSERT INTO student_findings \n",
      "    (student_id,chosen_model,acc_score,recall_score)\n",
      "                VALUES \n",
      "    ('TheDataApes', 'SVC', '0.9775238914805924', '0.3333333333333333')\n",
      "Executed \n",
      "\n",
      "INSERT INTO student_findings \n",
      "    (student_id,chosen_model,acc_score,recall_score)\n",
      "                VALUES \n",
      "    ('TheDataApes', 'SVC', '0.9775238914805924', '0.3333333333333333')\n",
      "\n",
      " successfully\n",
      "INSERT INTO student_findings \n",
      "    (student_id,chosen_model,acc_score,recall_score)\n",
      "                VALUES \n",
      "    ('TheDataApes', 'Logistic', '0.9775238914805924', '0.3333333333333333')\n",
      "(1062, \"Duplicate entry 'TheDataApes' for key 'PRIMARY'\")\n",
      "INSERT INTO student_findings \n",
      "    (student_id,chosen_model,acc_score,recall_score)\n",
      "                VALUES \n",
      "    ('TheDataApes', 'RandomForest', '0.9581672630101001', '0.370825763999535')\n",
      "(1062, \"Duplicate entry 'TheDataApes' for key 'PRIMARY'\")\n",
      "Close connection with MySQL server [australia_fires]\n"
     ]
    }
   ],
   "source": [
    "# create the loop to insert automatically all the rows in the dataframe\n",
    "\n",
    "# CREAMOS UNA LISTA DE LAS COLUMNAS\n",
    "valores = results.dtypes\n",
    "sql_insert_columns = str(valores.index[0].lower())\n",
    "for i in range(1,len(valores)):\n",
    "    row =',' +  valores.index[i].lower()\n",
    "    sql_insert_columns += row\n",
    "\n",
    "# INICIAMOS UNA CONEXIÓN CON LA BBDD\n",
    "mysql.connect()\n",
    "\n",
    "# CREAMOS UNA LISTA CON LOS VALORES Y CREAMOS LA SENTENCIA SQL PARA INSERTAR LA FILA\n",
    "for i in range(len(results)):\n",
    "    values_list = results.iloc[i].to_list()\n",
    "    sql_insert_values = \"'\" + str(values_list[0]) + \"'\"\n",
    "    for elem in values_list[1:]:\n",
    "        sql_insert_values += \", '\" + str(elem) + \"'\"\n",
    "\n",
    "    insert_row_sql = f\"\"\"INSERT INTO student_findings \n",
    "    ({sql_insert_columns})\n",
    "                VALUES \n",
    "    ({sql_insert_values})\"\"\"\n",
    "    print(insert_row_sql)\n",
    "    # SE INSERTA LA FILA\n",
    "    mysql.execute_interactive_sql(sql=insert_row_sql)\n",
    "\n",
    "#SE CIERRA LA CONEXIÓN\n",
    "mysql.close()"
   ]
  },
  {
   "cell_type": "code",
   "execution_count": 5,
   "metadata": {},
   "outputs": [
    {
     "output_type": "stream",
     "name": "stdout",
     "text": [
      "Connected to MySQL server [australia_fires]\n",
      "Executed \n",
      "\n",
      "INSERT INTO student_findings \n",
      "    (student_id,chosen_model,acc_score,recall_score)\n",
      "                VALUES \n",
      "    ('TheDataApes_1', 'Logistic', '0.9775238914805924', '0.3333333333333333')\n",
      "\n",
      " successfully\n",
      "Executed \n",
      "\n",
      "INSERT INTO student_findings \n",
      "    (student_id,chosen_model,acc_score,recall_score)\n",
      "                VALUES \n",
      "    ('TheDataApes_2', 'RandomForest', '0.9581672630101001', '0.370825763999535')\n",
      "\n",
      " successfully\n",
      "Close connection with MySQL server [australia_fires]\n"
     ]
    }
   ],
   "source": [
    "# ARREGLILLOS PACO\n",
    "\n",
    "apes2 = \"\"\"INSERT INTO student_findings \n",
    "    (student_id,chosen_model,acc_score,recall_score)\n",
    "                VALUES \n",
    "    ('TheDataApes_1', 'Logistic', '0.9775238914805924', '0.3333333333333333')\"\"\"\n",
    "\n",
    "apes3 = \"\"\"INSERT INTO student_findings \n",
    "    (student_id,chosen_model,acc_score,recall_score)\n",
    "                VALUES \n",
    "    ('TheDataApes_2', 'RandomForest', '0.9581672630101001', '0.370825763999535')\"\"\"\n",
    "\n",
    "mysql.connect()\n",
    "mysql.execute_interactive_sql(sql=apes2)\n",
    "mysql.execute_interactive_sql(sql=apes3)\n",
    "mysql.close()"
   ]
  },
  {
   "cell_type": "code",
   "execution_count": null,
   "metadata": {},
   "outputs": [],
   "source": [
    "# modification update"
   ]
  }
 ]
}